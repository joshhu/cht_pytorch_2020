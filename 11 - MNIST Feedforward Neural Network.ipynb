{
 "cells": [
  {
   "cell_type": "markdown",
   "metadata": {},
   "source": [
    "## Import PyTorch\n",
    "* 即時顯示圖片\n",
    "* 載入`torch`模組\n",
    "* 載入`torchvision`pytorch中有關圖形處理的模組\n",
    "* 載入pytorch中有關資料集的模組\n",
    "* 載入pytorch中的data transform模組(不一定是augmentation)\n"
   ]
  },
  {
   "cell_type": "code",
   "execution_count": 2,
   "metadata": {},
   "outputs": [
    {
     "name": "stdout",
     "output_type": "stream",
     "text": [
      "Populating the interactive namespace from numpy and matplotlib\n"
     ]
    }
   ],
   "source": [
    "%pylab inline\n",
    "import torch\n",
    "import torchvision\n",
    "import torch.nn as nn\n",
    "import torchvision.datasets as datasets\n",
    "import torchvision.transforms as transforms"
   ]
  },
  {
   "cell_type": "markdown",
   "metadata": {},
   "source": [
    "## Initialize Hyper-parameters"
   ]
  },
  {
   "cell_type": "code",
   "execution_count": 3,
   "metadata": {},
   "outputs": [],
   "source": [
    "input_size = 784       # The image size = 28 x 28 = 784\n",
    "hidden_size = 520      # The number of nodes at the hidden layer\n",
    "num_classes = 10       # The number of output classes. In this case, from 0 to 9\n",
    "num_epochs = 10         # The number of times entire dataset is trained\n",
    "batch_size = 100       # The size of input data took for one iteration\n",
    "learning_rate = 0.001  # The speed of convergence"
   ]
  },
  {
   "cell_type": "code",
   "execution_count": 4,
   "metadata": {},
   "outputs": [],
   "source": [
    "train_dataset = datasets.MNIST(root='./data',\n",
    "                           train=True,\n",
    "                           download=True)"
   ]
  },
  {
   "cell_type": "markdown",
   "metadata": {},
   "source": [
    "## Download MNIST Dataset"
   ]
  },
  {
   "cell_type": "code",
   "execution_count": 5,
   "metadata": {},
   "outputs": [],
   "source": [
    "train_dataset = datasets.MNIST(root='./data',\n",
    "                           train=True,\n",
    "                           transform=transforms.ToTensor(),\n",
    "                           download=True)\n",
    "\n",
    "test_dataset = datasets.MNIST(root='./data',\n",
    "                           train=False,\n",
    "                           transform=transforms.ToTensor())"
   ]
  },
  {
   "cell_type": "code",
   "execution_count": 10,
   "metadata": {},
   "outputs": [
    {
     "name": "stdout",
     "output_type": "stream",
     "text": [
      "Dataset MNIST\n",
      "    Number of datapoints: 60000\n",
      "    Root location: ./data\n",
      "    Split: Train\n",
      "    StandardTransform\n",
      "Transform: ToTensor()\n",
      "<class 'torchvision.datasets.mnist.MNIST'>\n",
      "60000\n",
      "資料的形狀={} torch.Size([1, 28, 28])\n",
      "資料的標記={} 5\n"
     ]
    },
    {
     "data": {
      "image/png": "[encoded data removed]",
      "text/plain": [
       "<PIL.Image.Image image mode=L size=28x28 at 0x7F80F83FA110>"
      ]
     },
     "metadata": {},
     "output_type": "display_data"
    }
   ],
   "source": [
    "print(train_dataset)\n",
    "print(type(train_dataset))\n",
    "print(len(train_dataset))\n",
    "# print(train_dataset[0].shape)\n",
    "print(\"資料的形狀={}\",train_dataset[0][0].shape)\n",
    "print(\"資料的標記={}\",train_dataset[0][1])\n",
    "\n",
    "img = transforms.ToPILImage()(train_dataset[0][0])\n",
    "display(img)\n",
    "\n",
    "\n"
   ]
  },
  {
   "cell_type": "markdown",
   "metadata": {},
   "source": [
    "## Load the Dataset"
   ]
  },
  {
   "cell_type": "markdown",
   "metadata": {},
   "source": [
    "We shuffle the loading process of train_dataset to make the learning process independent of data orderness, but the order of test_loader remains to examine whether we can handle unspecified bias order of inputs."
   ]
  },
  {
   "cell_type": "code",
   "execution_count": 12,
   "metadata": {},
   "outputs": [],
   "source": [
    "train_loader = torch.utils.data.DataLoader(dataset=train_dataset,\n",
    "                                          batch_size=batch_size,\n",
    "                                          shuffle=True,\n",
    "                                          num_workers=4, \n",
    "                                          pin_memory=True)\n",
    "\n",
    "test_loader = torch.utils.data.DataLoader(dataset=test_dataset,\n",
    "                                          batch_size=batch_size,\n",
    "                                          shuffle=False,\n",
    "                                          num_workers=4, \n",
    "                                          pin_memory=True)"
   ]
  },
  {
   "cell_type": "code",
   "execution_count": 15,
   "metadata": {},
   "outputs": [
    {
     "data": {
      "text/plain": [
       "<matplotlib.image.AxesImage at 0x7f8080427950>"
      ]
     },
     "execution_count": 15,
     "metadata": {},
     "output_type": "execute_result"
    },
    {
     "data": {
      "image/png": "[encoded data removed]",
      "text/plain": [
       "<Figure size 432x288 with 1 Axes>"
      ]
     },
     "metadata": {
      "needs_background": "light"
     },
     "output_type": "display_data"
    }
   ],
   "source": [
    "showimages = iter(train_loader).next()[0][:20]\n",
    "grid_img = torchvision.utils.make_grid(showimages, nrow=5)\n",
    "plt.imshow(grid_img.permute(1, 2, 0))"
   ]
  },
  {
   "cell_type": "code",
   "execution_count": 9,
   "metadata": {},
   "outputs": [
    {
     "name": "stdout",
     "output_type": "stream",
     "text": [
      "a is a <class 'list'>\n",
      "torch.Size([100, 1, 28, 28])\n"
     ]
    }
   ],
   "source": [
    "a = iter(train_loader).next()\n",
    "print(\"a is a {}\".format(type(a)))\n",
    "print(a[0].shape)"
   ]
  },
  {
   "cell_type": "code",
   "execution_count": 10,
   "metadata": {},
   "outputs": [
    {
     "name": "stdout",
     "output_type": "stream",
     "text": [
      "[Train]\n",
      " - Numpy Shape: (60000, 28, 28)\n",
      " - Tensor Shape: torch.Size([60000, 28, 28])\n",
      " - min: tensor(0.)\n",
      " - max: tensor(1.)\n",
      " - mean: tensor(0.1307)\n",
      " - std: tensor(0.3081)\n",
      " - var: tensor(0.0949)\n"
     ]
    }
   ],
   "source": [
    "train_data = train_dataset.data\n",
    "train_data = train_dataset.transform(train_data.numpy())\n",
    "\n",
    "print('[Train]')\n",
    "print(' - Numpy Shape:', train_dataset.data.cpu().numpy().shape)\n",
    "print(' - Tensor Shape:', train_dataset.data.size())\n",
    "print(' - min:', torch.min(train_data))\n",
    "print(' - max:', torch.max(train_data))\n",
    "print(' - mean:', torch.mean(train_data))\n",
    "print(' - std:', torch.std(train_data))\n",
    "print(' - var:', torch.var(train_data))"
   ]
  },
  {
   "cell_type": "markdown",
   "metadata": {},
   "source": [
    "## Feedforward Neural Network Model Structure"
   ]
  },
  {
   "cell_type": "code",
   "execution_count": 11,
   "metadata": {},
   "outputs": [],
   "source": [
    "class Net(nn.Module):\n",
    "    def __init__(self, input_size, hidden_size, num_classes):\n",
    "        super(Net, self).__init__()                    # Inherited from the parent class nn.Module\n",
    "        self.fc1 = nn.Linear(input_size, hidden_size)  # 1st Full-Connected Layer: 784 (input data) -> 500 (hidden node)\n",
    "        self.fc2 = nn.Linear(hidden_size, hidden_size) # 2nd Full-Connected Layer: 500 (hidden node) -> 10 (output class)\n",
    "        self.fc3 = nn.Linear(hidden_size, num_classes)\n",
    "        self.af = nn.Sigmoid()                          # Non-Linear ReLU Layer: max(0,x)\n",
    "    \n",
    "    def forward(self, x):                              # Forward pass: stacking each layer together\n",
    "        out = self.fc1(x)\n",
    "        out = self.af(out)\n",
    "        out = self.fc2(out)\n",
    "        out = self.af(out)\n",
    "        out = self.fc3(out)\n",
    "        return out"
   ]
  },
  {
   "cell_type": "markdown",
   "metadata": {},
   "source": [
    "## 不用class而直接建構網路"
   ]
  },
  {
   "cell_type": "code",
   "execution_count": 12,
   "metadata": {},
   "outputs": [
    {
     "data": {
      "text/plain": [
       "'\\nnet = torch.nn.Sequential(\\n    torch.nn.Linear(input_size, hidden_size),\\n    torch.nn.ReLU(),\\n    torch.nn.Linear(hidden_size, hidden_size),\\n    torch.nn.ReLU(),\\n    torch.nn.Linear(hidden_size, num_classes)\\n)\\n'"
      ]
     },
     "execution_count": 12,
     "metadata": {},
     "output_type": "execute_result"
    }
   ],
   "source": [
    "# net = Net(input_size, hidden_size, num_classes)\n",
    "'''\n",
    "net = torch.nn.Sequential(\n",
    "    torch.nn.Linear(input_size, hidden_size),\n",
    "    torch.nn.ReLU(),\n",
    "    torch.nn.Linear(hidden_size, hidden_size),\n",
    "    torch.nn.ReLU(),\n",
    "    torch.nn.Linear(hidden_size, num_classes)\n",
    ")\n",
    "'''"
   ]
  },
  {
   "cell_type": "code",
   "execution_count": 13,
   "metadata": {},
   "outputs": [],
   "source": [
    "net = Net(input_size, hidden_size, num_classes)\n"
   ]
  },
  {
   "cell_type": "markdown",
   "metadata": {},
   "source": [
    "## Choose the Loss Function and Optimizer"
   ]
  },
  {
   "cell_type": "code",
   "execution_count": 14,
   "metadata": {},
   "outputs": [],
   "source": [
    "criterion = nn.CrossEntropyLoss()\n",
    "optimizer = torch.optim.Adam(net.parameters(), lr=learning_rate)"
   ]
  },
  {
   "cell_type": "markdown",
   "metadata": {},
   "source": [
    "## Train the FNN Model"
   ]
  },
  {
   "cell_type": "code",
   "execution_count": 15,
   "metadata": {},
   "outputs": [
    {
     "name": "stdout",
     "output_type": "stream",
     "text": [
      "Epoch [1/10], Step [100/600], Loss: 0.6865\n",
      "Epoch [1/10], Step [200/600], Loss: 0.4840\n",
      "Epoch [1/10], Step [300/600], Loss: 0.4091\n",
      "Epoch [1/10], Step [400/600], Loss: 0.3324\n",
      "Epoch [1/10], Step [500/600], Loss: 0.2967\n",
      "Epoch [1/10], Step [600/600], Loss: 0.1715\n",
      "Epoch [2/10], Step [100/600], Loss: 0.1828\n",
      "Epoch [2/10], Step [200/600], Loss: 0.1827\n",
      "Epoch [2/10], Step [300/600], Loss: 0.2144\n",
      "Epoch [2/10], Step [400/600], Loss: 0.1277\n",
      "Epoch [2/10], Step [500/600], Loss: 0.0435\n",
      "Epoch [2/10], Step [600/600], Loss: 0.0826\n",
      "Epoch [3/10], Step [100/600], Loss: 0.0784\n",
      "Epoch [3/10], Step [200/600], Loss: 0.1078\n",
      "Epoch [3/10], Step [300/600], Loss: 0.2334\n",
      "Epoch [3/10], Step [400/600], Loss: 0.1425\n",
      "Epoch [3/10], Step [500/600], Loss: 0.2088\n",
      "Epoch [3/10], Step [600/600], Loss: 0.0860\n",
      "Epoch [4/10], Step [100/600], Loss: 0.0931\n",
      "Epoch [4/10], Step [200/600], Loss: 0.0423\n",
      "Epoch [4/10], Step [300/600], Loss: 0.0554\n",
      "Epoch [4/10], Step [400/600], Loss: 0.0883\n",
      "Epoch [4/10], Step [500/600], Loss: 0.1305\n",
      "Epoch [4/10], Step [600/600], Loss: 0.1460\n",
      "Epoch [5/10], Step [100/600], Loss: 0.1054\n",
      "Epoch [5/10], Step [200/600], Loss: 0.0680\n",
      "Epoch [5/10], Step [300/600], Loss: 0.0595\n",
      "Epoch [5/10], Step [400/600], Loss: 0.1220\n",
      "Epoch [5/10], Step [500/600], Loss: 0.0432\n",
      "Epoch [5/10], Step [600/600], Loss: 0.0159\n",
      "Epoch [6/10], Step [100/600], Loss: 0.0456\n",
      "Epoch [6/10], Step [200/600], Loss: 0.0971\n",
      "Epoch [6/10], Step [300/600], Loss: 0.1354\n",
      "Epoch [6/10], Step [400/600], Loss: 0.0465\n",
      "Epoch [6/10], Step [500/600], Loss: 0.0288\n",
      "Epoch [6/10], Step [600/600], Loss: 0.0402\n",
      "Epoch [7/10], Step [100/600], Loss: 0.0319\n",
      "Epoch [7/10], Step [200/600], Loss: 0.0130\n",
      "Epoch [7/10], Step [300/600], Loss: 0.0285\n",
      "Epoch [7/10], Step [400/600], Loss: 0.0135\n",
      "Epoch [7/10], Step [500/600], Loss: 0.0102\n",
      "Epoch [7/10], Step [600/600], Loss: 0.0434\n",
      "Epoch [8/10], Step [100/600], Loss: 0.0189\n",
      "Epoch [8/10], Step [200/600], Loss: 0.0504\n",
      "Epoch [8/10], Step [300/600], Loss: 0.0324\n",
      "Epoch [8/10], Step [400/600], Loss: 0.0376\n",
      "Epoch [8/10], Step [500/600], Loss: 0.0257\n",
      "Epoch [8/10], Step [600/600], Loss: 0.0493\n",
      "Epoch [9/10], Step [100/600], Loss: 0.0049\n",
      "Epoch [9/10], Step [200/600], Loss: 0.0528\n",
      "Epoch [9/10], Step [300/600], Loss: 0.0281\n",
      "Epoch [9/10], Step [400/600], Loss: 0.0643\n",
      "Epoch [9/10], Step [500/600], Loss: 0.0051\n",
      "Epoch [9/10], Step [600/600], Loss: 0.0054\n",
      "Epoch [10/10], Step [100/600], Loss: 0.0690\n",
      "Epoch [10/10], Step [200/600], Loss: 0.0082\n",
      "Epoch [10/10], Step [300/600], Loss: 0.0343\n",
      "Epoch [10/10], Step [400/600], Loss: 0.0148\n",
      "Epoch [10/10], Step [500/600], Loss: 0.0417\n",
      "Epoch [10/10], Step [600/600], Loss: 0.0134\n",
      "CPU times: user 3min 26s, sys: 40.2 s, total: 4min 6s\n",
      "Wall time: 1min 11s\n"
     ]
    }
   ],
   "source": [
    "%%time\n",
    "import torch.nn.functional as F\n",
    "losses = []\n",
    "for epoch in range(num_epochs):\n",
    "    for i, (images, labels) in enumerate(train_loader):   # Load a batch of images with its (index, data, class)\n",
    "        images = torch.FloatTensor(images.view(-1, 28*28))         # Convert torch tensor to Variable: change image from a vector of size 784 to a matrix of 28 x 28\n",
    "        labels = torch.LongTensor(labels)\n",
    "       \n",
    "      \n",
    "        optimizer.zero_grad()                             # Intialize the hidden weight to all zeros\n",
    "        outputs = net(images)                             # Forward pass: compute the output class given a image\n",
    "        loss = criterion(outputs, labels)                 # Compute the loss: difference between the output class and the pre-given label\n",
    "        losses.append(loss.item())\n",
    "        loss.backward()                                   # Backward pass: compute the weight\n",
    "        optimizer.step()                                  # Optimizer: update the weights of hidden nodes\n",
    "        \n",
    "        if (i+1) % 100 == 0:                              # Logging\n",
    "            print('Epoch [%d/%d], Step [%d/%d], Loss: %.4f'\n",
    "                 %(epoch+1, num_epochs, i+1, len(train_dataset)//batch_size, loss.item()))"
   ]
  },
  {
   "cell_type": "code",
   "execution_count": 16,
   "metadata": {},
   "outputs": [
    {
     "data": {
      "text/plain": [
       "[<matplotlib.lines.Line2D at 0x7f2fa8d046a0>]"
      ]
     },
     "execution_count": 16,
     "metadata": {},
     "output_type": "execute_result"
    },
    {
     "data": {
      "image/png": "[encoded data removed]",
      "text/plain": [
       "<Figure size 432x288 with 1 Axes>"
      ]
     },
     "metadata": {},
     "output_type": "display_data"
    }
   ],
   "source": [
    "plot(losses)"
   ]
  },
  {
   "cell_type": "markdown",
   "metadata": {},
   "source": [
    "## Test the FNN Model"
   ]
  },
  {
   "cell_type": "markdown",
   "metadata": {},
   "source": [
    "Similar to training the nerual network, we also need to load batches of test images and collect the outputs. The differences are that:\n",
    "* No loss & weights calculation\n",
    "* No wights update\n",
    "* Has correct prediction calculation"
   ]
  },
  {
   "cell_type": "code",
   "execution_count": 17,
   "metadata": {},
   "outputs": [
    {
     "name": "stdout",
     "output_type": "stream",
     "text": [
      "Accuracy of the network on the 10K test images: 97 %\n"
     ]
    }
   ],
   "source": [
    "correct = 0\n",
    "total = 0\n",
    "for images, labels in test_loader:\n",
    "    images = torch.FloatTensor(images.view(-1, 28*28))\n",
    "    \n",
    "    images = images\n",
    "    labels = labels\n",
    "    \n",
    "    outputs = net(images)\n",
    "    _, predicted = torch.max(outputs.data, 1)  # Choose the best class from the output: The class with the best score\n",
    "    total += labels.size(0)                    # Increment the total count\n",
    "    correct += (predicted == labels).sum()     # Increment the correct count\n",
    "    \n",
    "print('Accuracy of the network on the 10K test images: %d %%' % (100 * correct / total))"
   ]
  },
  {
   "cell_type": "markdown",
   "metadata": {},
   "source": [
    "## Save the trained FNN Model for future use"
   ]
  },
  {
   "cell_type": "code",
   "execution_count": 18,
   "metadata": {},
   "outputs": [],
   "source": [
    "# Save the model\n",
    "torch.save(net.state_dict(), 'fnn_model.pkl')"
   ]
  }
 ],
 "metadata": {
  "kernelspec": {
   "display_name": "Python 3",
   "language": "python",
   "name": "python3"
  },
  "language_info": {
   "codemirror_mode": {
    "name": "ipython",
    "version": 3
   },
   "file_extension": ".py",
   "mimetype": "text/x-python",
   "name": "python",
   "nbconvert_exporter": "python",
   "pygments_lexer": "ipython3",
   "version": "3.7.5"
  }
 },
 "nbformat": 4,
 "nbformat_minor": 4
}
