{
 "cells": [
  {
   "cell_type": "markdown",
   "metadata": {},
   "source": [
    "## 加了L1"
   ]
  },
  {
   "cell_type": "code",
   "execution_count": 1,
   "metadata": {},
   "outputs": [
    {
     "name": "stdout",
     "output_type": "stream",
     "text": [
      "1:\tTest set: Average loss: 0.0035, Accuracy: 9357/10000 (94%)\n",
      "2:\tTest set: Average loss: 0.0021, Accuracy: 9607/10000 (96%)\n",
      "3:\tTest set: Average loss: 0.0016, Accuracy: 9683/10000 (97%)\n",
      "4:\tTest set: Average loss: 0.0014, Accuracy: 9736/10000 (97%)\n",
      "5:\tTest set: Average loss: 0.0012, Accuracy: 9754/10000 (98%)\n",
      "6:\tTest set: Average loss: 0.0012, Accuracy: 9760/10000 (98%)\n",
      "7:\tTest set: Average loss: 0.0011, Accuracy: 9784/10000 (98%)\n",
      "8:\tTest set: Average loss: 0.0011, Accuracy: 9783/10000 (98%)\n",
      "9:\tTest set: Average loss: 0.0010, Accuracy: 9793/10000 (98%)\n",
      "10:\tTest set: Average loss: 0.0009, Accuracy: 9800/10000 (98%)\n",
      "11:\tTest set: Average loss: 0.0009, Accuracy: 9821/10000 (98%)\n",
      "12:\tTest set: Average loss: 0.0009, Accuracy: 9816/10000 (98%)\n",
      "13:\tTest set: Average loss: 0.0009, Accuracy: 9822/10000 (98%)\n",
      "14:\tTest set: Average loss: 0.0009, Accuracy: 9822/10000 (98%)\n",
      "15:\tTest set: Average loss: 0.0009, Accuracy: 9816/10000 (98%)\n",
      "16:\tTest set: Average loss: 0.0008, Accuracy: 9826/10000 (98%)\n",
      "17:\tTest set: Average loss: 0.0008, Accuracy: 9839/10000 (98%)\n",
      "18:\tTest set: Average loss: 0.0008, Accuracy: 9838/10000 (98%)\n",
      "19:\tTest set: Average loss: 0.0008, Accuracy: 9839/10000 (98%)\n",
      "20:\tTest set: Average loss: 0.0008, Accuracy: 9836/10000 (98%)\n",
      "done\n",
      "CPU times: user 2min 33s, sys: 1.2 s, total: 2min 34s\n",
      "Wall time: 2min 36s\n"
     ]
    }
   ],
   "source": [
    "%%time\n",
    "from __future__ import print_function\n",
    "import argparse\n",
    "import torch\n",
    "import torch.nn as nn\n",
    "import torch.nn.functional as F\n",
    "import torch.optim as optim\n",
    "from torchvision import datasets, transforms\n",
    "\n",
    "# Check if cuda available\n",
    "device = torch.device(\"cuda\" if torch.cuda.is_available() else \"cpu\")\n",
    "\n",
    "# Training settings\n",
    "batch_size = 64\n",
    "\n",
    "# MNIST Dataset\n",
    "train_dataset = datasets.MNIST(root='./data/',\n",
    "                               train=True,\n",
    "                               transform=transforms.ToTensor(),\n",
    "                               download=True)\n",
    "\n",
    "test_dataset = datasets.MNIST(root='./data/',\n",
    "                              train=False,\n",
    "                              transform=transforms.ToTensor())\n",
    "\n",
    "# Data Loader (Input Pipeline)\n",
    "train_loader = torch.utils.data.DataLoader(dataset=train_dataset,\n",
    "                                           batch_size=batch_size,\n",
    "                                           shuffle=True)\n",
    "\n",
    "test_loader = torch.utils.data.DataLoader(dataset=test_dataset,\n",
    "                                          batch_size=batch_size,\n",
    "                                          shuffle=False)\n",
    "\n",
    "\n",
    "class Net(nn.Module):\n",
    "\n",
    "    def __init__(self):\n",
    "        super(Net, self).__init__()\n",
    "        self.conv1 = nn.Conv2d(1, 10, kernel_size=5)\n",
    "        self.conv2 = nn.Conv2d(10, 20, kernel_size=5)\n",
    "        self.mp = nn.MaxPool2d(2)\n",
    "        self.fc = nn.Linear(320, 10)\n",
    "\n",
    "    def forward(self, x):\n",
    "        in_size = x.size(0)\n",
    "        x = self.mp(F.relu(self.conv1(x)))\n",
    "        x = self.mp(F.relu(self.conv2(x)))\n",
    "        x = x.view(in_size, -1)  # flatten the tensor\n",
    "        x = self.fc(x)\n",
    "        return F.log_softmax(x, dim=0)\n",
    "\n",
    "\n",
    "\n",
    "model = Net()\n",
    "model = model.to(device)\n",
    "criterion = criterion = nn.CrossEntropyLoss()\n",
    "optimizer = optim.SGD(model.parameters(), lr=0.01, momentum=0.5, weight_decay=0.001)\n",
    "\n",
    "\n",
    "def train(epoch):\n",
    "    model.train()\n",
    "    for batch_idx, (data, target) in enumerate(train_loader):\n",
    "        data = data.to(device)\n",
    "        target = target.to(device)\n",
    "        optimizer.zero_grad()\n",
    "        output = model(data)\n",
    "        regularization_loss = 0\n",
    "        for param in model.parameters():\n",
    "            regularization_loss += torch.mean(abs(param))\n",
    "        \n",
    "        loss = criterion(output, target)\n",
    "        loss += 0.01 * regularization_loss # lamda = 0.01\n",
    "        loss.backward()\n",
    "        optimizer.step()\n",
    "\n",
    "\n",
    "def test(epoch):\n",
    "    model.eval()\n",
    "    test_loss = 0\n",
    "    correct = 0\n",
    "    for data, target in test_loader:\n",
    "        data = data.to(device)\n",
    "        target = target.to(device)\n",
    "        output = model(data)\n",
    "        # sum up batch loss\n",
    "        #test_loss += F.nll_loss(output, target, reduction='sum').item()\n",
    "        test_loss += criterion(output, target).item()\n",
    "        # get the index of the max log-probability\n",
    "        pred = output.data.max(1, keepdim=True)[1]\n",
    "        correct += pred.eq(target.data.view_as(pred)).cpu().sum()\n",
    "\n",
    "    test_loss /= len(test_loader.dataset)\n",
    "    print(str(epoch)+\":\\t\"+'Test set: Average loss: {:.4f}, Accuracy: {}/{} ({:.0f}%)'.format(\n",
    "        test_loss, correct, len(test_loader.dataset),\n",
    "        100. * correct / len(test_loader.dataset)))\n",
    "\n",
    "\n",
    "for epoch in range(1, 21):\n",
    "    train(epoch)\n",
    "    test(epoch)\n",
    "print('done')\n"
   ]
  },
  {
   "cell_type": "markdown",
   "metadata": {},
   "source": [
    "## 加了L2"
   ]
  },
  {
   "cell_type": "code",
   "execution_count": 2,
   "metadata": {},
   "outputs": [
    {
     "name": "stdout",
     "output_type": "stream",
     "text": [
      "1:\tTest set: Average loss: 0.0031, Accuracy: 9412/10000 (94%)\n",
      "2:\tTest set: Average loss: 0.0020, Accuracy: 9617/10000 (96%)\n",
      "3:\tTest set: Average loss: 0.0015, Accuracy: 9706/10000 (97%)\n",
      "4:\tTest set: Average loss: 0.0014, Accuracy: 9734/10000 (97%)\n",
      "5:\tTest set: Average loss: 0.0012, Accuracy: 9759/10000 (98%)\n",
      "6:\tTest set: Average loss: 0.0012, Accuracy: 9763/10000 (98%)\n",
      "7:\tTest set: Average loss: 0.0010, Accuracy: 9785/10000 (98%)\n",
      "8:\tTest set: Average loss: 0.0010, Accuracy: 9793/10000 (98%)\n",
      "9:\tTest set: Average loss: 0.0010, Accuracy: 9801/10000 (98%)\n",
      "10:\tTest set: Average loss: 0.0010, Accuracy: 9795/10000 (98%)\n",
      "11:\tTest set: Average loss: 0.0010, Accuracy: 9792/10000 (98%)\n",
      "12:\tTest set: Average loss: 0.0009, Accuracy: 9806/10000 (98%)\n",
      "13:\tTest set: Average loss: 0.0009, Accuracy: 9806/10000 (98%)\n",
      "14:\tTest set: Average loss: 0.0009, Accuracy: 9805/10000 (98%)\n",
      "15:\tTest set: Average loss: 0.0009, Accuracy: 9825/10000 (98%)\n",
      "16:\tTest set: Average loss: 0.0009, Accuracy: 9827/10000 (98%)\n",
      "17:\tTest set: Average loss: 0.0009, Accuracy: 9814/10000 (98%)\n",
      "18:\tTest set: Average loss: 0.0008, Accuracy: 9826/10000 (98%)\n",
      "19:\tTest set: Average loss: 0.0008, Accuracy: 9827/10000 (98%)\n",
      "20:\tTest set: Average loss: 0.0008, Accuracy: 9843/10000 (98%)\n",
      "done\n",
      "CPU times: user 2min 5s, sys: 597 ms, total: 2min 6s\n",
      "Wall time: 2min 7s\n"
     ]
    }
   ],
   "source": [
    "%%time\n",
    "from __future__ import print_function\n",
    "import argparse\n",
    "import torch\n",
    "import torch.nn as nn\n",
    "import torch.nn.functional as F\n",
    "import torch.optim as optim\n",
    "from torchvision import datasets, transforms\n",
    "\n",
    "# Check if cuda available\n",
    "device = torch.device(\"cuda\" if torch.cuda.is_available() else \"cpu\")\n",
    "\n",
    "# Training settings\n",
    "batch_size = 64\n",
    "\n",
    "# MNIST Dataset\n",
    "train_dataset = datasets.MNIST(root='./data/',\n",
    "                               train=True,\n",
    "                               transform=transforms.ToTensor(),\n",
    "                               download=True)\n",
    "\n",
    "test_dataset = datasets.MNIST(root='./data/',\n",
    "                              train=False,\n",
    "                              transform=transforms.ToTensor())\n",
    "\n",
    "# Data Loader (Input Pipeline)\n",
    "train_loader = torch.utils.data.DataLoader(dataset=train_dataset,\n",
    "                                           batch_size=batch_size,\n",
    "                                           shuffle=True)\n",
    "\n",
    "test_loader = torch.utils.data.DataLoader(dataset=test_dataset,\n",
    "                                          batch_size=batch_size,\n",
    "                                          shuffle=False)\n",
    "\n",
    "\n",
    "class Net(nn.Module):\n",
    "\n",
    "    def __init__(self):\n",
    "        super(Net, self).__init__()\n",
    "        self.conv1 = nn.Conv2d(1, 10, kernel_size=5)\n",
    "        self.conv2 = nn.Conv2d(10, 20, kernel_size=5)\n",
    "        self.mp = nn.MaxPool2d(2)\n",
    "        self.fc = nn.Linear(320, 10)\n",
    "\n",
    "    def forward(self, x):\n",
    "        in_size = x.size(0)\n",
    "        x = self.mp(F.relu(self.conv1(x)))\n",
    "        x = self.mp(F.relu(self.conv2(x)))\n",
    "        x = x.view(in_size, -1)  # flatten the tensor\n",
    "        x = self.fc(x)\n",
    "        return F.log_softmax(x, dim=0)\n",
    "\n",
    "\n",
    "model = Net()\n",
    "model = model.to(device)\n",
    "criterion = criterion = nn.CrossEntropyLoss()\n",
    "optimizer = optim.SGD(model.parameters(), lr=0.01, momentum=0.5, weight_decay=0.001)\n",
    "\n",
    "\n",
    "def train(epoch):\n",
    "    model.train()\n",
    "    for batch_idx, (data, target) in enumerate(train_loader):\n",
    "        data = data.to(device)\n",
    "        target = target.to(device)\n",
    "        optimizer.zero_grad()\n",
    "        output = model(data)\n",
    "        loss = criterion(output, target)\n",
    "        loss.backward()\n",
    "        optimizer.step()\n",
    "\n",
    "\n",
    "def test(epoch):\n",
    "    model.eval()\n",
    "    test_loss = 0\n",
    "    correct = 0\n",
    "    for data, target in test_loader:\n",
    "        data = data.to(device)\n",
    "        target = target.to(device)\n",
    "        output = model(data)\n",
    "        test_loss += criterion(output, target).item()\n",
    "        pred = output.data.max(1, keepdim=True)[1]\n",
    "        correct += pred.eq(target.data.view_as(pred)).cpu().sum()\n",
    "\n",
    "    test_loss /= len(test_loader.dataset)\n",
    "    print(str(epoch)+\":\\t\"+'Test set: Average loss: {:.4f}, Accuracy: {}/{} ({:.0f}%)'.format(\n",
    "        test_loss, correct, len(test_loader.dataset),\n",
    "        100. * correct / len(test_loader.dataset)))\n",
    "\n",
    "\n",
    "for epoch in range(1, 21):\n",
    "    train(epoch)\n",
    "    test(epoch)\n",
    "print('done')"
   ]
  },
  {
   "cell_type": "markdown",
   "metadata": {},
   "source": [
    "# Normalization Input Data"
   ]
  },
  {
   "cell_type": "code",
   "execution_count": 3,
   "metadata": {},
   "outputs": [
    {
     "name": "stdout",
     "output_type": "stream",
     "text": [
      "1:\tTest set: Average loss: 0.0018, Accuracy: 9658/10000 (97%)\n",
      "2:\tTest set: Average loss: 0.0012, Accuracy: 9751/10000 (98%)\n",
      "3:\tTest set: Average loss: 0.0011, Accuracy: 9791/10000 (98%)\n",
      "4:\tTest set: Average loss: 0.0009, Accuracy: 9821/10000 (98%)\n",
      "5:\tTest set: Average loss: 0.0008, Accuracy: 9837/10000 (98%)\n",
      "6:\tTest set: Average loss: 0.0008, Accuracy: 9839/10000 (98%)\n",
      "7:\tTest set: Average loss: 0.0007, Accuracy: 9866/10000 (99%)\n",
      "8:\tTest set: Average loss: 0.0007, Accuracy: 9875/10000 (99%)\n",
      "9:\tTest set: Average loss: 0.0006, Accuracy: 9880/10000 (99%)\n",
      "10:\tTest set: Average loss: 0.0006, Accuracy: 9872/10000 (99%)\n",
      "11:\tTest set: Average loss: 0.0006, Accuracy: 9874/10000 (99%)\n",
      "12:\tTest set: Average loss: 0.0006, Accuracy: 9885/10000 (99%)\n",
      "13:\tTest set: Average loss: 0.0006, Accuracy: 9881/10000 (99%)\n",
      "14:\tTest set: Average loss: 0.0006, Accuracy: 9892/10000 (99%)\n",
      "15:\tTest set: Average loss: 0.0006, Accuracy: 9875/10000 (99%)\n",
      "16:\tTest set: Average loss: 0.0006, Accuracy: 9896/10000 (99%)\n",
      "17:\tTest set: Average loss: 0.0006, Accuracy: 9887/10000 (99%)\n",
      "18:\tTest set: Average loss: 0.0005, Accuracy: 9895/10000 (99%)\n",
      "19:\tTest set: Average loss: 0.0005, Accuracy: 9892/10000 (99%)\n",
      "20:\tTest set: Average loss: 0.0005, Accuracy: 9900/10000 (99%)\n",
      "done\n",
      "CPU times: user 3min 18s, sys: 647 ms, total: 3min 18s\n",
      "Wall time: 3min 20s\n"
     ]
    }
   ],
   "source": [
    "%%time\n",
    "from __future__ import print_function\n",
    "import argparse\n",
    "import torch\n",
    "import torch.nn as nn\n",
    "import torch.nn.functional as F\n",
    "import torch.optim as optim\n",
    "from torchvision import datasets, transforms\n",
    "\n",
    "# Check if cuda available\n",
    "device = torch.device(\"cuda\" if torch.cuda.is_available() else \"cpu\")\n",
    "\n",
    "# Training settings\n",
    "batch_size = 64\n",
    "\n",
    "trans = transforms.Compose([\n",
    "        transforms.ToTensor(),\n",
    "        transforms.Normalize((0.1307,), (0.3081,))\n",
    "])\n",
    "\n",
    "# MNIST Dataset\n",
    "train_dataset = datasets.MNIST(root='./data/',\n",
    "                               train=True,\n",
    "                               transform=trans,\n",
    "                               download=True)\n",
    "\n",
    "test_dataset = datasets.MNIST(root='./data/',\n",
    "                              train=False,\n",
    "                              transform=trans)\n",
    "\n",
    "# Data Loader (Input Pipeline)\n",
    "train_loader = torch.utils.data.DataLoader(dataset=train_dataset,\n",
    "                                           batch_size=batch_size,\n",
    "                                           shuffle=True)\n",
    "\n",
    "test_loader = torch.utils.data.DataLoader(dataset=test_dataset,\n",
    "                                          batch_size=batch_size,\n",
    "                                          shuffle=False)\n",
    "\n",
    "\n",
    "class Net(nn.Module):\n",
    "\n",
    "    def __init__(self):\n",
    "        super(Net, self).__init__()\n",
    "        self.conv1 = nn.Conv2d(1, 10, kernel_size=5)\n",
    "        self.conv2 = nn.Conv2d(10, 20, kernel_size=5)\n",
    "        self.mp = nn.MaxPool2d(2)\n",
    "        self.fc = nn.Linear(320, 10)\n",
    "\n",
    "    def forward(self, x):\n",
    "        in_size = x.size(0)\n",
    "        x = self.mp(F.relu(self.conv1(x)))\n",
    "        x = self.mp(F.relu(self.conv2(x)))\n",
    "        x = x.view(in_size, -1)  # flatten the tensor\n",
    "        x = self.fc(x)\n",
    "        return F.log_softmax(x, dim=0)\n",
    "\n",
    "model = Net()\n",
    "model = model.to(device)\n",
    "criterion = criterion = nn.CrossEntropyLoss()\n",
    "optimizer = optim.SGD(model.parameters(), lr=0.01, momentum=0.5, weight_decay=0.001)\n",
    "\n",
    "\n",
    "def train(epoch):\n",
    "    model.train()\n",
    "    for batch_idx, (data, target) in enumerate(train_loader):\n",
    "        data = data.to(device)\n",
    "        target = target.to(device)\n",
    "        optimizer.zero_grad()\n",
    "        output = model(data)\n",
    "        loss = criterion(output, target)\n",
    "        loss.backward()\n",
    "        optimizer.step()\n",
    "\n",
    "\n",
    "def test(epoch):\n",
    "    model.eval()\n",
    "    test_loss = 0\n",
    "    correct = 0\n",
    "    for data, target in test_loader:\n",
    "        data = data.to(device)\n",
    "        target = target.to(device)\n",
    "        output = model(data)\n",
    "        test_loss += criterion(output, target).item()\n",
    "        pred = output.data.max(1, keepdim=True)[1]\n",
    "        correct += pred.eq(target.data.view_as(pred)).cpu().sum()\n",
    "\n",
    "    test_loss /= len(test_loader.dataset)\n",
    "    print(str(epoch)+\":\\t\"+'Test set: Average loss: {:.4f}, Accuracy: {}/{} ({:.0f}%)'.format(\n",
    "        test_loss, correct, len(test_loader.dataset),\n",
    "        100. * correct / len(test_loader.dataset)))\n",
    "\n",
    "\n",
    "for epoch in range(1, 21):\n",
    "    train(epoch)\n",
    "    test(epoch)\n",
    "print('done')"
   ]
  },
  {
   "cell_type": "markdown",
   "metadata": {},
   "source": [
    "# With Batch Norm"
   ]
  },
  {
   "cell_type": "code",
   "execution_count": 4,
   "metadata": {},
   "outputs": [
    {
     "name": "stdout",
     "output_type": "stream",
     "text": [
      "1:\tTest set: Average loss: 0.0054, Accuracy: 9606/10000 (96%)\n",
      "2:\tTest set: Average loss: 0.0031, Accuracy: 9716/10000 (97%)\n",
      "3:\tTest set: Average loss: 0.0025, Accuracy: 9757/10000 (98%)\n",
      "4:\tTest set: Average loss: 0.0021, Accuracy: 9809/10000 (98%)\n",
      "5:\tTest set: Average loss: 0.0017, Accuracy: 9812/10000 (98%)\n",
      "6:\tTest set: Average loss: 0.0015, Accuracy: 9832/10000 (98%)\n",
      "7:\tTest set: Average loss: 0.0014, Accuracy: 9844/10000 (98%)\n",
      "8:\tTest set: Average loss: 0.0012, Accuracy: 9844/10000 (98%)\n",
      "9:\tTest set: Average loss: 0.0011, Accuracy: 9861/10000 (99%)\n",
      "10:\tTest set: Average loss: 0.0011, Accuracy: 9862/10000 (99%)\n",
      "11:\tTest set: Average loss: 0.0011, Accuracy: 9865/10000 (99%)\n",
      "12:\tTest set: Average loss: 0.0010, Accuracy: 9869/10000 (99%)\n",
      "13:\tTest set: Average loss: 0.0010, Accuracy: 9867/10000 (99%)\n",
      "14:\tTest set: Average loss: 0.0009, Accuracy: 9876/10000 (99%)\n",
      "15:\tTest set: Average loss: 0.0010, Accuracy: 9875/10000 (99%)\n",
      "16:\tTest set: Average loss: 0.0009, Accuracy: 9873/10000 (99%)\n",
      "17:\tTest set: Average loss: 0.0009, Accuracy: 9880/10000 (99%)\n",
      "18:\tTest set: Average loss: 0.0009, Accuracy: 9864/10000 (99%)\n",
      "19:\tTest set: Average loss: 0.0008, Accuracy: 9867/10000 (99%)\n",
      "20:\tTest set: Average loss: 0.0009, Accuracy: 9882/10000 (99%)\n",
      "21:\tTest set: Average loss: 0.0008, Accuracy: 9874/10000 (99%)\n",
      "22:\tTest set: Average loss: 0.0008, Accuracy: 9889/10000 (99%)\n",
      "23:\tTest set: Average loss: 0.0008, Accuracy: 9888/10000 (99%)\n",
      "24:\tTest set: Average loss: 0.0008, Accuracy: 9873/10000 (99%)\n",
      "25:\tTest set: Average loss: 0.0008, Accuracy: 9887/10000 (99%)\n",
      "26:\tTest set: Average loss: 0.0008, Accuracy: 9888/10000 (99%)\n",
      "27:\tTest set: Average loss: 0.0008, Accuracy: 9886/10000 (99%)\n",
      "28:\tTest set: Average loss: 0.0008, Accuracy: 9885/10000 (99%)\n",
      "29:\tTest set: Average loss: 0.0008, Accuracy: 9888/10000 (99%)\n",
      "30:\tTest set: Average loss: 0.0008, Accuracy: 9885/10000 (99%)\n",
      "done\n",
      "CPU times: user 5min 33s, sys: 1.06 s, total: 5min 34s\n",
      "Wall time: 5min 37s\n"
     ]
    }
   ],
   "source": [
    "%%time\n",
    "from __future__ import print_function\n",
    "import argparse\n",
    "import torch\n",
    "import torch.nn as nn\n",
    "import torch.nn.functional as F\n",
    "import torch.optim as optim\n",
    "from torchvision import datasets, transforms\n",
    "\n",
    "# Check if cuda available\n",
    "device = torch.device(\"cuda\" if torch.cuda.is_available() else \"cpu\")\n",
    "\n",
    "# Training settings\n",
    "batch_size = 64\n",
    "\n",
    "trans = transforms.Compose([\n",
    "        transforms.ToTensor(),\n",
    "        transforms.Normalize((0.1307,), (0.3081,))\n",
    "])\n",
    "\n",
    "# MNIST Dataset\n",
    "train_dataset = datasets.MNIST(root='./data/',\n",
    "                               train=True,\n",
    "                               transform=trans,\n",
    "                               download=True)\n",
    "\n",
    "test_dataset = datasets.MNIST(root='./data/',\n",
    "                              train=False,\n",
    "                              transform=trans)\n",
    "\n",
    "# Data Loader (Input Pipeline)\n",
    "train_loader = torch.utils.data.DataLoader(dataset=train_dataset,\n",
    "                                           batch_size=batch_size,\n",
    "                                           shuffle=True)\n",
    "\n",
    "test_loader = torch.utils.data.DataLoader(dataset=test_dataset,\n",
    "                                          batch_size=batch_size,\n",
    "                                          shuffle=False)\n",
    "\n",
    "\n",
    "class Net(nn.Module):\n",
    "    def __init__(self):\n",
    "        super(Net, self).__init__()\n",
    "        self.conv1 = nn.Conv2d(1, 10, kernel_size=5)\n",
    "        self.conv1_bn = nn.BatchNorm2d(10)\n",
    "        self.conv2 = nn.Conv2d(10, 20, kernel_size=5)\n",
    "        self.conv2_bn = nn.BatchNorm2d(20)\n",
    "        self.conv2_drop = nn.Dropout2d()\n",
    "        self.fc1 = nn.Linear(320, 50)\n",
    "        self.fc1_bn = nn.BatchNorm1d(50)\n",
    "        self.fc2 = nn.Linear(50, 10)\n",
    "        self.fc2_bn = nn.BatchNorm1d(10)\n",
    "\n",
    "    def forward(self, x, y=None):\n",
    "        x = F.relu(F.max_pool2d(self.conv1_bn(self.conv1(x)), 2))\n",
    "        x = F.max_pool2d(self.conv2_drop(self.conv2_bn(self.conv2(x))), 2)\n",
    "        x = F.relu(x)\n",
    "        x = x.view(-1, 320)\n",
    "        x = F.relu(self.fc1_bn(self.fc1(x)))\n",
    "        x = F.dropout(x, training=self.training)\n",
    "        x = self.fc2_bn(self.fc2(x))\n",
    "        return F.log_softmax(x, dim=0)\n",
    "model = Net()\n",
    "model = model.to(device)\n",
    "criterion = criterion = nn.CrossEntropyLoss()\n",
    "optimizer = optim.SGD(model.parameters(), lr=0.01, momentum=0.5, weight_decay=0.001)\n",
    "\n",
    "\n",
    "def train(epoch):\n",
    "    model.train()\n",
    "    for batch_idx, (data, target) in enumerate(train_loader):\n",
    "        data = data.to(device)\n",
    "        target = target.to(device)\n",
    "        optimizer.zero_grad()\n",
    "        output = model(data)\n",
    "        loss = criterion(output, target)\n",
    "        loss.backward()\n",
    "        optimizer.step()\n",
    "\n",
    "\n",
    "def test(epoch):\n",
    "    model.eval()\n",
    "    test_loss = 0\n",
    "    correct = 0\n",
    "    for data, target in test_loader:\n",
    "        data = data.to(device)\n",
    "        target = target.to(device)\n",
    "        output = model(data)\n",
    "        test_loss += criterion(output, target).item()\n",
    "        pred = output.data.max(1, keepdim=True)[1]\n",
    "        correct += pred.eq(target.data.view_as(pred)).cpu().sum()\n",
    "\n",
    "    test_loss /= len(test_loader.dataset)\n",
    "    print(str(epoch)+\":\\t\"+'Test set: Average loss: {:.4f}, Accuracy: {}/{} ({:.0f}%)'.format(\n",
    "        test_loss, correct, len(test_loader.dataset),\n",
    "        100. * correct / len(test_loader.dataset)))\n",
    "\n",
    "\n",
    "for epoch in range(1, 31):\n",
    "    train(epoch)\n",
    "    test(epoch)\n",
    "print('done')"
   ]
  },
  {
   "cell_type": "markdown",
   "metadata": {},
   "source": [
    "# ADAM"
   ]
  },
  {
   "cell_type": "code",
   "execution_count": 5,
   "metadata": {},
   "outputs": [
    {
     "name": "stdout",
     "output_type": "stream",
     "text": [
      "1:\tTest set: Average loss: 0.0018, Accuracy: 9773/10000 (98%)\n",
      "2:\tTest set: Average loss: 0.0015, Accuracy: 9790/10000 (98%)\n",
      "3:\tTest set: Average loss: 0.0014, Accuracy: 9772/10000 (98%)\n",
      "4:\tTest set: Average loss: 0.0014, Accuracy: 9788/10000 (98%)\n",
      "5:\tTest set: Average loss: 0.0015, Accuracy: 9768/10000 (98%)\n",
      "6:\tTest set: Average loss: 0.0015, Accuracy: 9756/10000 (98%)\n",
      "7:\tTest set: Average loss: 0.0016, Accuracy: 9742/10000 (97%)\n",
      "8:\tTest set: Average loss: 0.0014, Accuracy: 9777/10000 (98%)\n",
      "9:\tTest set: Average loss: 0.0015, Accuracy: 9769/10000 (98%)\n",
      "10:\tTest set: Average loss: 0.0014, Accuracy: 9754/10000 (98%)\n",
      "11:\tTest set: Average loss: 0.0014, Accuracy: 9781/10000 (98%)\n",
      "12:\tTest set: Average loss: 0.0015, Accuracy: 9771/10000 (98%)\n",
      "13:\tTest set: Average loss: 0.0014, Accuracy: 9788/10000 (98%)\n",
      "14:\tTest set: Average loss: 0.0014, Accuracy: 9791/10000 (98%)\n",
      "15:\tTest set: Average loss: 0.0012, Accuracy: 9797/10000 (98%)\n",
      "16:\tTest set: Average loss: 0.0014, Accuracy: 9788/10000 (98%)\n",
      "17:\tTest set: Average loss: 0.0014, Accuracy: 9799/10000 (98%)\n",
      "18:\tTest set: Average loss: 0.0015, Accuracy: 9786/10000 (98%)\n",
      "19:\tTest set: Average loss: 0.0015, Accuracy: 9761/10000 (98%)\n",
      "20:\tTest set: Average loss: 0.0014, Accuracy: 9772/10000 (98%)\n",
      "21:\tTest set: Average loss: 0.0015, Accuracy: 9761/10000 (98%)\n",
      "22:\tTest set: Average loss: 0.0016, Accuracy: 9766/10000 (98%)\n",
      "23:\tTest set: Average loss: 0.0014, Accuracy: 9769/10000 (98%)\n",
      "24:\tTest set: Average loss: 0.0014, Accuracy: 9780/10000 (98%)\n",
      "25:\tTest set: Average loss: 0.0013, Accuracy: 9785/10000 (98%)\n",
      "26:\tTest set: Average loss: 0.0014, Accuracy: 9784/10000 (98%)\n",
      "27:\tTest set: Average loss: 0.0015, Accuracy: 9774/10000 (98%)\n",
      "28:\tTest set: Average loss: 0.0013, Accuracy: 9794/10000 (98%)\n",
      "29:\tTest set: Average loss: 0.0015, Accuracy: 9752/10000 (98%)\n",
      "30:\tTest set: Average loss: 0.0014, Accuracy: 9787/10000 (98%)\n",
      "done\n",
      "CPU times: user 6min 1s, sys: 977 ms, total: 6min 2s\n",
      "Wall time: 6min 6s\n"
     ]
    }
   ],
   "source": [
    "%%time\n",
    "from __future__ import print_function\n",
    "import argparse\n",
    "import torch\n",
    "import torch.nn as nn\n",
    "import torch.nn.functional as F\n",
    "import torch.optim as optim\n",
    "from torchvision import datasets, transforms\n",
    "\n",
    "# Check if cuda available\n",
    "device = torch.device(\"cuda\" if torch.cuda.is_available() else \"cpu\")\n",
    "\n",
    "# Training settings\n",
    "batch_size = 64\n",
    "\n",
    "trans = transforms.Compose([\n",
    "        transforms.ToTensor(),\n",
    "        transforms.Normalize((0.1307,), (0.3081,))\n",
    "])\n",
    "\n",
    "# MNIST Dataset\n",
    "train_dataset = datasets.MNIST(root='./data/',\n",
    "                               train=True,\n",
    "                               transform=trans,\n",
    "                               download=True)\n",
    "\n",
    "test_dataset = datasets.MNIST(root='./data/',\n",
    "                              train=False,\n",
    "                              transform=trans)\n",
    "\n",
    "# Data Loader (Input Pipeline)\n",
    "train_loader = torch.utils.data.DataLoader(dataset=train_dataset,\n",
    "                                           batch_size=batch_size,\n",
    "                                           shuffle=True)\n",
    "\n",
    "test_loader = torch.utils.data.DataLoader(dataset=test_dataset,\n",
    "                                          batch_size=batch_size,\n",
    "                                          shuffle=False)\n",
    "\n",
    "\n",
    "class Net(nn.Module):\n",
    "    def __init__(self):\n",
    "        super(Net, self).__init__()\n",
    "        self.conv1 = nn.Conv2d(1, 10, kernel_size=5)\n",
    "        self.conv1_bn = nn.BatchNorm2d(10)\n",
    "        self.conv2 = nn.Conv2d(10, 20, kernel_size=5)\n",
    "        self.conv2_bn = nn.BatchNorm2d(20)\n",
    "        self.conv2_drop = nn.Dropout2d()\n",
    "        self.fc1 = nn.Linear(320, 50)\n",
    "        self.fc1_bn = nn.BatchNorm1d(50)\n",
    "        self.fc2 = nn.Linear(50, 10)\n",
    "        self.fc2_bn = nn.BatchNorm1d(10)\n",
    "\n",
    "    def forward(self, x, y=None):\n",
    "        x = F.relu(F.max_pool2d(self.conv1_bn(self.conv1(x)), 2))\n",
    "        x = F.max_pool2d(self.conv2_drop(self.conv2_bn(self.conv2(x))), 2)\n",
    "        x = F.relu(x)\n",
    "        x = x.view(-1, 320)\n",
    "        x = F.relu(self.fc1_bn(self.fc1(x)))\n",
    "        x = F.dropout(x, training=self.training)\n",
    "        x = self.fc2_bn(self.fc2(x))\n",
    "        return F.log_softmax(x, dim=0)\n",
    "\n",
    "model = Net()\n",
    "if torch.cuda.device_count() > 2:\n",
    "    print(\"On\", torch.cuda.device_count(), \"GPUs\")\n",
    "    model = nn.DataParallel(model)\n",
    "\n",
    "model = model.to(device)\n",
    "model = model.to(device)\n",
    "criterion = criterion = nn.CrossEntropyLoss()\n",
    "# optimizer = optim.SGD(model.parameters(), lr=0.01, momentum=0.5, weight_decay=0.001)\n",
    "optimizer = optim.Adam(model.parameters(), lr=0.01, weight_decay=0.001)\n",
    "\n",
    "def train(epoch):\n",
    "    model.train()\n",
    "    for batch_idx, (data, target) in enumerate(train_loader):\n",
    "        data = data.to(device)\n",
    "        target = target.to(device)\n",
    "        optimizer.zero_grad()\n",
    "        output = model(data)\n",
    "        loss = criterion(output, target)\n",
    "        loss.backward()\n",
    "        optimizer.step()\n",
    "\n",
    "\n",
    "def test(epoch):\n",
    "    model.eval()\n",
    "    test_loss = 0\n",
    "    correct = 0\n",
    "    for data, target in test_loader:\n",
    "        data = data.to(device)\n",
    "        target = target.to(device)\n",
    "        output = model(data)\n",
    "        test_loss += criterion(output, target).item()\n",
    "        pred = output.data.max(1, keepdim=True)[1]\n",
    "        correct += pred.eq(target.data.view_as(pred)).cpu().sum()\n",
    "\n",
    "    test_loss /= len(test_loader.dataset)\n",
    "    print(str(epoch)+\":\\t\"+'Test set: Average loss: {:.4f}, Accuracy: {}/{} ({:.0f}%)'.format(\n",
    "        test_loss, correct, len(test_loader.dataset),\n",
    "        100. * correct / len(test_loader.dataset)))\n",
    "\n",
    "\n",
    "for epoch in range(1, 31):\n",
    "    train(epoch)\n",
    "    test(epoch)\n",
    "print('done')"
   ]
  },
  {
   "cell_type": "markdown",
   "metadata": {},
   "source": [
    "# 換上預選的model"
   ]
  },
  {
   "cell_type": "code",
   "execution_count": 6,
   "metadata": {},
   "outputs": [
    {
     "name": "stderr",
     "output_type": "stream",
     "text": [
      "Downloading: \"https://download.pytorch.org/models/densenet201-c1103571.pth\" to /home/joshhu/.cache/torch/checkpoints/densenet201-c1103571.pth\n"
     ]
    },
    {
     "data": {
      "application/vnd.jupyter.widget-view+json": {
       "model_id": "414ea5e3883445ec8cd7962c0866faed",
       "version_major": 2,
       "version_minor": 0
      },
      "text/plain": [
       "HBox(children=(FloatProgress(value=0.0, max=81131730.0), HTML(value='')))"
      ]
     },
     "metadata": {},
     "output_type": "display_data"
    },
    {
     "name": "stdout",
     "output_type": "stream",
     "text": [
      "\n"
     ]
    },
    {
     "name": "stderr",
     "output_type": "stream",
     "text": [
      "100%|██████████| 118/118 [00:37<00:00,  3.15it/s]\n",
      "100%|██████████| 20/20 [00:03<00:00,  6.07it/s]\n",
      "  0%|          | 0/118 [00:00<?, ?it/s]"
     ]
    },
    {
     "name": "stdout",
     "output_type": "stream",
     "text": [
      "1:\tTest set: Average loss: 0.0001, Accuracy: 9841/10000 (98%)\n"
     ]
    },
    {
     "name": "stderr",
     "output_type": "stream",
     "text": [
      "100%|██████████| 118/118 [00:37<00:00,  3.15it/s]\n",
      "100%|██████████| 20/20 [00:03<00:00,  6.07it/s]\n",
      "  0%|          | 0/118 [00:00<?, ?it/s]"
     ]
    },
    {
     "name": "stdout",
     "output_type": "stream",
     "text": [
      "2:\tTest set: Average loss: 0.0001, Accuracy: 9887/10000 (99%)\n"
     ]
    },
    {
     "name": "stderr",
     "output_type": "stream",
     "text": [
      "100%|██████████| 118/118 [00:37<00:00,  3.14it/s]\n",
      "100%|██████████| 20/20 [00:03<00:00,  6.01it/s]\n",
      "  0%|          | 0/118 [00:00<?, ?it/s]"
     ]
    },
    {
     "name": "stdout",
     "output_type": "stream",
     "text": [
      "3:\tTest set: Average loss: 0.0001, Accuracy: 9894/10000 (99%)\n"
     ]
    },
    {
     "name": "stderr",
     "output_type": "stream",
     "text": [
      "100%|██████████| 118/118 [00:37<00:00,  3.14it/s]\n",
      "100%|██████████| 20/20 [00:03<00:00,  6.03it/s]\n",
      "  0%|          | 0/118 [00:00<?, ?it/s]"
     ]
    },
    {
     "name": "stdout",
     "output_type": "stream",
     "text": [
      "4:\tTest set: Average loss: 0.0001, Accuracy: 9897/10000 (99%)\n"
     ]
    },
    {
     "name": "stderr",
     "output_type": "stream",
     "text": [
      "100%|██████████| 118/118 [00:37<00:00,  3.14it/s]\n",
      "100%|██████████| 20/20 [00:03<00:00,  5.99it/s]\n",
      "  0%|          | 0/118 [00:00<?, ?it/s]"
     ]
    },
    {
     "name": "stdout",
     "output_type": "stream",
     "text": [
      "5:\tTest set: Average loss: 0.0001, Accuracy: 9914/10000 (99%)\n"
     ]
    },
    {
     "name": "stderr",
     "output_type": "stream",
     "text": [
      "100%|██████████| 118/118 [00:37<00:00,  3.13it/s]\n",
      "100%|██████████| 20/20 [00:03<00:00,  6.05it/s]\n",
      "  0%|          | 0/118 [00:00<?, ?it/s]"
     ]
    },
    {
     "name": "stdout",
     "output_type": "stream",
     "text": [
      "6:\tTest set: Average loss: 0.0001, Accuracy: 9920/10000 (99%)\n"
     ]
    },
    {
     "name": "stderr",
     "output_type": "stream",
     "text": [
      "100%|██████████| 118/118 [00:37<00:00,  3.14it/s]\n",
      "100%|██████████| 20/20 [00:03<00:00,  6.04it/s]\n",
      "  0%|          | 0/118 [00:00<?, ?it/s]"
     ]
    },
    {
     "name": "stdout",
     "output_type": "stream",
     "text": [
      "7:\tTest set: Average loss: 0.0001, Accuracy: 9928/10000 (99%)\n"
     ]
    },
    {
     "name": "stderr",
     "output_type": "stream",
     "text": [
      "100%|██████████| 118/118 [00:37<00:00,  3.14it/s]\n",
      "100%|██████████| 20/20 [00:03<00:00,  6.03it/s]\n",
      "  0%|          | 0/118 [00:00<?, ?it/s]"
     ]
    },
    {
     "name": "stdout",
     "output_type": "stream",
     "text": [
      "8:\tTest set: Average loss: 0.0001, Accuracy: 9920/10000 (99%)\n"
     ]
    },
    {
     "name": "stderr",
     "output_type": "stream",
     "text": [
      "100%|██████████| 118/118 [00:37<00:00,  3.13it/s]\n",
      "100%|██████████| 20/20 [00:03<00:00,  6.02it/s]\n",
      "  0%|          | 0/118 [00:00<?, ?it/s]"
     ]
    },
    {
     "name": "stdout",
     "output_type": "stream",
     "text": [
      "9:\tTest set: Average loss: 0.0001, Accuracy: 9922/10000 (99%)\n"
     ]
    },
    {
     "name": "stderr",
     "output_type": "stream",
     "text": [
      "100%|██████████| 118/118 [00:37<00:00,  3.12it/s]\n",
      "100%|██████████| 20/20 [00:03<00:00,  6.02it/s]\n",
      "  0%|          | 0/118 [00:00<?, ?it/s]"
     ]
    },
    {
     "name": "stdout",
     "output_type": "stream",
     "text": [
      "10:\tTest set: Average loss: 0.0001, Accuracy: 9921/10000 (99%)\n"
     ]
    },
    {
     "name": "stderr",
     "output_type": "stream",
     "text": [
      "100%|██████████| 118/118 [00:37<00:00,  3.13it/s]\n",
      "100%|██████████| 20/20 [00:03<00:00,  6.02it/s]\n",
      "  0%|          | 0/118 [00:00<?, ?it/s]"
     ]
    },
    {
     "name": "stdout",
     "output_type": "stream",
     "text": [
      "11:\tTest set: Average loss: 0.0001, Accuracy: 9915/10000 (99%)\n"
     ]
    },
    {
     "name": "stderr",
     "output_type": "stream",
     "text": [
      "100%|██████████| 118/118 [00:37<00:00,  3.13it/s]\n",
      "100%|██████████| 20/20 [00:03<00:00,  6.02it/s]\n",
      "  0%|          | 0/118 [00:00<?, ?it/s]"
     ]
    },
    {
     "name": "stdout",
     "output_type": "stream",
     "text": [
      "12:\tTest set: Average loss: 0.0001, Accuracy: 9921/10000 (99%)\n"
     ]
    },
    {
     "name": "stderr",
     "output_type": "stream",
     "text": [
      "100%|██████████| 118/118 [00:37<00:00,  3.13it/s]\n",
      "100%|██████████| 20/20 [00:03<00:00,  6.01it/s]\n",
      "  0%|          | 0/118 [00:00<?, ?it/s]"
     ]
    },
    {
     "name": "stdout",
     "output_type": "stream",
     "text": [
      "13:\tTest set: Average loss: 0.0001, Accuracy: 9898/10000 (99%)\n"
     ]
    },
    {
     "name": "stderr",
     "output_type": "stream",
     "text": [
      "100%|██████████| 118/118 [00:37<00:00,  3.13it/s]\n",
      "100%|██████████| 20/20 [00:03<00:00,  6.04it/s]\n",
      "  0%|          | 0/118 [00:00<?, ?it/s]"
     ]
    },
    {
     "name": "stdout",
     "output_type": "stream",
     "text": [
      "14:\tTest set: Average loss: 0.0001, Accuracy: 9923/10000 (99%)\n"
     ]
    },
    {
     "name": "stderr",
     "output_type": "stream",
     "text": [
      "100%|██████████| 118/118 [00:37<00:00,  3.13it/s]\n",
      "100%|██████████| 20/20 [00:03<00:00,  6.04it/s]\n",
      "  0%|          | 0/118 [00:00<?, ?it/s]"
     ]
    },
    {
     "name": "stdout",
     "output_type": "stream",
     "text": [
      "15:\tTest set: Average loss: 0.0001, Accuracy: 9918/10000 (99%)\n"
     ]
    },
    {
     "name": "stderr",
     "output_type": "stream",
     "text": [
      "100%|██████████| 118/118 [00:37<00:00,  3.13it/s]\n",
      "100%|██████████| 20/20 [00:03<00:00,  6.03it/s]\n",
      "  0%|          | 0/118 [00:00<?, ?it/s]"
     ]
    },
    {
     "name": "stdout",
     "output_type": "stream",
     "text": [
      "16:\tTest set: Average loss: 0.0001, Accuracy: 9911/10000 (99%)\n"
     ]
    },
    {
     "name": "stderr",
     "output_type": "stream",
     "text": [
      "100%|██████████| 118/118 [00:37<00:00,  3.13it/s]\n",
      "100%|██████████| 20/20 [00:03<00:00,  6.02it/s]\n",
      "  0%|          | 0/118 [00:00<?, ?it/s]"
     ]
    },
    {
     "name": "stdout",
     "output_type": "stream",
     "text": [
      "17:\tTest set: Average loss: 0.0001, Accuracy: 9919/10000 (99%)\n"
     ]
    },
    {
     "name": "stderr",
     "output_type": "stream",
     "text": [
      "100%|██████████| 118/118 [00:37<00:00,  3.13it/s]\n",
      "100%|██████████| 20/20 [00:03<00:00,  6.04it/s]\n",
      "  0%|          | 0/118 [00:00<?, ?it/s]"
     ]
    },
    {
     "name": "stdout",
     "output_type": "stream",
     "text": [
      "18:\tTest set: Average loss: 0.0001, Accuracy: 9920/10000 (99%)\n"
     ]
    },
    {
     "name": "stderr",
     "output_type": "stream",
     "text": [
      "100%|██████████| 118/118 [00:37<00:00,  3.13it/s]\n",
      "100%|██████████| 20/20 [00:03<00:00,  6.03it/s]\n",
      "  0%|          | 0/118 [00:00<?, ?it/s]"
     ]
    },
    {
     "name": "stdout",
     "output_type": "stream",
     "text": [
      "19:\tTest set: Average loss: 0.0001, Accuracy: 9919/10000 (99%)\n"
     ]
    },
    {
     "name": "stderr",
     "output_type": "stream",
     "text": [
      "100%|██████████| 118/118 [00:37<00:00,  3.13it/s]\n",
      "100%|██████████| 20/20 [00:03<00:00,  6.02it/s]"
     ]
    },
    {
     "name": "stdout",
     "output_type": "stream",
     "text": [
      "20:\tTest set: Average loss: 0.0001, Accuracy: 9922/10000 (99%)\n",
      "done\n",
      "CPU times: user 12min 7s, sys: 1min 34s, total: 13min 41s\n",
      "Wall time: 13min 42s\n"
     ]
    },
    {
     "name": "stderr",
     "output_type": "stream",
     "text": [
      "\n"
     ]
    }
   ],
   "source": [
    "%%time\n",
    "from __future__ import print_function\n",
    "import argparse\n",
    "import torch\n",
    "import torch.nn as nn\n",
    "import torch.nn.functional as F\n",
    "import torch.optim as optim\n",
    "from torchvision import datasets, transforms, models\n",
    "from tqdm import tqdm\n",
    "\n",
    "# Check if cuda available\n",
    "device = torch.device(\"cuda\" if torch.cuda.is_available() else \"cpu\")\n",
    "\n",
    "# Training settings\n",
    "batch_size = 512\n",
    "\n",
    "trans = transforms.Compose([\n",
    "            transforms.Grayscale(num_output_channels=3),\n",
    "            transforms.Resize(32),\n",
    "            transforms.ToTensor(),\n",
    "            transforms.Normalize((0.1307,), (0.3081,))\n",
    "])\n",
    "\n",
    "# MNIST Dataset\n",
    "train_dataset = datasets.MNIST(root='./data/',\n",
    "                               train=True,\n",
    "                               transform=trans,\n",
    "                               download=True)\n",
    "\n",
    "test_dataset = datasets.MNIST(root='./data/',\n",
    "                              train=False,\n",
    "                              transform=trans)\n",
    "\n",
    "# Data Loader (Input Pipeline)\n",
    "train_loader = torch.utils.data.DataLoader(dataset=train_dataset,\n",
    "                                           batch_size=batch_size,\n",
    "                                           shuffle=True)\n",
    "\n",
    "test_loader = torch.utils.data.DataLoader(dataset=test_dataset,\n",
    "                                          batch_size=batch_size,\n",
    "                                          shuffle=False)\n",
    "\n",
    "num_classes = 10\n",
    "\n",
    "model = models.densenet201(pretrained=True)\n",
    "num_ftrs = model.classifier.in_features\n",
    "model.classifier = nn.Linear(num_ftrs, 10)\n",
    "\n",
    "if torch.cuda.device_count() > 1:\n",
    "    print(\"On\", torch.cuda.device_count(), \"GPUs\")\n",
    "    model = nn.DataParallel(model)\n",
    "\n",
    "model = model.to(device)\n",
    "criterion = criterion = nn.CrossEntropyLoss()\n",
    "optimizer = optim.SGD(model.parameters(), lr=0.01, momentum=0.5, weight_decay=0.001)\n",
    "\n",
    "\n",
    "def train(epoch):\n",
    "    model.train()\n",
    "    for batch_idx, (data, target) in enumerate(tqdm(train_loader)):\n",
    "        data = data.to(device)\n",
    "        target = target.to(device)\n",
    "        optimizer.zero_grad()\n",
    "        output = model(data)\n",
    "        loss = criterion(output, target)\n",
    "        loss.backward()\n",
    "        optimizer.step()\n",
    "\n",
    "\n",
    "def test(epoch):\n",
    "    model.eval()\n",
    "    test_loss = 0\n",
    "    correct = 0\n",
    "    for data, target in tqdm(test_loader):\n",
    "        data = data.to(device)\n",
    "        target = target.to(device)\n",
    "        output = model(data)\n",
    "        test_loss += criterion(output, target).item()\n",
    "        pred = output.data.max(1, keepdim=True)[1]\n",
    "        correct += pred.eq(target.data.view_as(pred)).cpu().sum()\n",
    "\n",
    "    test_loss /= len(test_loader.dataset)\n",
    "    print(str(epoch)+\":\\t\"+'Test set: Average loss: {:.4f}, Accuracy: {}/{} ({:.0f}%)'.format(\n",
    "        test_loss, correct, len(test_loader.dataset),\n",
    "        100. * correct / len(test_loader.dataset)))\n",
    "\n",
    "\n",
    "for epoch in range(1, 21):\n",
    "    train(epoch)\n",
    "    test(epoch)\n",
    "print('done')"
   ]
  }
 ],
 "metadata": {
  "kernelspec": {
   "display_name": "Python [conda env:pytorch] *",
   "language": "python",
   "name": "conda-env-pytorch-py"
  },
  "language_info": {
   "codemirror_mode": {
    "name": "ipython",
    "version": 3
   },
   "file_extension": ".py",
   "mimetype": "text/x-python",
   "name": "python",
   "nbconvert_exporter": "python",
   "pygments_lexer": "ipython3",
   "version": "3.7.5"
  }
 },
 "nbformat": 4,
 "nbformat_minor": 4
}
